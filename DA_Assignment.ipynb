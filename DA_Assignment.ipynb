{
  "cells": [
    {
      "cell_type": "markdown",
      "metadata": {
        "id": "view-in-github",
        "colab_type": "text"
      },
      "source": [
        "<a href=\"https://colab.research.google.com/github/Rabiul-ds/Melbourne-housing-market-price-prediction/blob/main/DA_Assignment.ipynb\" target=\"_parent\"><img src=\"https://colab.research.google.com/assets/colab-badge.svg\" alt=\"Open In Colab\"/></a>"
      ]
    },
    {
      "cell_type": "code",
      "execution_count": null,
      "metadata": {
        "id": "NJciaX7ZOukv"
      },
      "outputs": [],
      "source": [
        "import numpy as np\n",
        "import pandas as pd"
      ]
    },
    {
      "cell_type": "code",
      "execution_count": 9,
      "metadata": {
        "colab": {
          "base_uri": "https://localhost:8080/"
        },
        "id": "ITywPQup4PBx",
        "outputId": "8c627740-6e2d-4cf0-a218-daedb875aedd"
      },
      "outputs": [
        {
          "output_type": "stream",
          "name": "stdout",
          "text": [
            "       Suburb             Address  Rooms Type      Price Method SellerG  \\\n",
            "0  Abbotsford       68 Studley St      2    h        NaN     SS  Jellis   \n",
            "1  Abbotsford        85 Turner St      2    h  1480000.0      S  Biggin   \n",
            "2  Abbotsford     25 Bloomburg St      2    h  1035000.0      S  Biggin   \n",
            "3  Abbotsford  18/659 Victoria St      3    u        NaN     VB  Rounds   \n",
            "4  Abbotsford        5 Charles St      3    h  1465000.0     SP  Biggin   \n",
            "\n",
            "        Date  Distance  Postcode  ...  Bathroom  Car  Landsize  BuildingArea  \\\n",
            "0  3/09/2016       2.5    3067.0  ...       1.0  1.0     126.0           NaN   \n",
            "1  3/12/2016       2.5    3067.0  ...       1.0  1.0     202.0           NaN   \n",
            "2  4/02/2016       2.5    3067.0  ...       1.0  0.0     156.0          79.0   \n",
            "3  4/02/2016       2.5    3067.0  ...       2.0  1.0       0.0           NaN   \n",
            "4  4/03/2017       2.5    3067.0  ...       2.0  0.0     134.0         150.0   \n",
            "\n",
            "   YearBuilt         CouncilArea Lattitude  Longtitude             Regionname  \\\n",
            "0        NaN  Yarra City Council  -37.8014    144.9958  Northern Metropolitan   \n",
            "1        NaN  Yarra City Council  -37.7996    144.9984  Northern Metropolitan   \n",
            "2     1900.0  Yarra City Council  -37.8079    144.9934  Northern Metropolitan   \n",
            "3        NaN  Yarra City Council  -37.8114    145.0116  Northern Metropolitan   \n",
            "4     1900.0  Yarra City Council  -37.8093    144.9944  Northern Metropolitan   \n",
            "\n",
            "  Propertycount  \n",
            "0        4019.0  \n",
            "1        4019.0  \n",
            "2        4019.0  \n",
            "3        4019.0  \n",
            "4        4019.0  \n",
            "\n",
            "[5 rows x 21 columns]\n"
          ]
        }
      ],
      "source": [
        "url = 'https://raw.githubusercontent.com/Rabiul-ds/Melbourne-housing-market-price-prediction/refs/heads/main/Melbourne_housing_FULL.csv'\n",
        "df = pd.read_csv(url, encoding='utf-8')\n",
        "print(df.head(5))"
      ]
    },
    {
      "cell_type": "code",
      "execution_count": null,
      "metadata": {
        "id": "fMVmMy3usMVO"
      },
      "outputs": [],
      "source": []
    }
  ],
  "metadata": {
    "colab": {
      "provenance": [],
      "authorship_tag": "ABX9TyPXEXlMnbPIx+eM8bFwwMpk",
      "include_colab_link": true
    },
    "kernelspec": {
      "display_name": "Python 3",
      "name": "python3"
    },
    "language_info": {
      "name": "python"
    }
  },
  "nbformat": 4,
  "nbformat_minor": 0
}